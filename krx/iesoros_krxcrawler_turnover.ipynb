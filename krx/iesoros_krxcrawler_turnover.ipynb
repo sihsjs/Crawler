{
 "cells": [
  {
   "cell_type": "markdown",
   "metadata": {},
   "source": [
    "###  Crawler Krx --turnover ....회전율 상위 종목"
   ]
  },
  {
   "cell_type": "code",
   "execution_count": 119,
   "metadata": {
    "collapsed": true
   },
   "outputs": [],
   "source": [
    "import requests\n",
    "import json\n",
    "import pandas as pd\n"
   ]
  },
  {
   "cell_type": "code",
   "execution_count": 179,
   "metadata": {
    "collapsed": false
   },
   "outputs": [
    {
     "name": "stdout",
     "output_type": "stream",
     "text": [
      "Object `request.request` not found.\n"
     ]
    }
   ],
   "source": [
    "##### Generate OTP\n",
    "url = 'http://marketdata.krx.co.kr/contents/COM/GenerateOTP.jspx'\n",
    "header = {# 'accept': '*/*', 'accept-encoding':'gzip, deflate, sdch', \n",
    "        #  'referer': 'http://marketdata.krx.co.kr/mdi',\n",
    "        #  'cache-control':'no-cache',\n",
    "        #  'postman-token': \"02a8b74a-23cb-f931-7fc6-b1960f3861f5\"\n",
    "        }\n",
    "querystring = {'bld':'MKD%2F04%2F0404%2F04040300%2Fmkd04040300_chart', \n",
    "               'name':'qtr'}\n",
    "\n",
    "response_code = requests.request('GET', url, headers=header , params= querystring)\n",
    "response_code.text\n"
   ]
  },
  {
   "cell_type": "code",
   "execution_count": 178,
   "metadata": {
    "collapsed": false
   },
   "outputs": [
    {
     "data": {
      "text/plain": [
       "'{\"회전율상위\":[{\"rn\":\"1\",\"isu_cd\":\"115610\",\"kor_shrt_isu_nm\":\"이미지스\",\"isu_cur_pr\":\"7,650\",\"fluc_tp_cd\":\"2\",\"prv_dd_cmpr\":\"440\",\"lst_stk_vl\":\"7,669,128\",\"isu_tr_vl\":\"14,362,619\",\"tr_vl_rt\":\"187.28\",\"mem_nm\":\"키움증권\",\"trst_bid_tr_vl\":\"5,617,748\",\"trst_bid_tr_rt\":\"39.11\",\"totCnt\":\"2128\"},{\"rn\":\"2\",\"isu_cd\":\"038160\",\"kor_shrt_isu_nm\":\"팍스넷\",\"isu_cur_pr\":\"8,800\",\"fluc_tp_cd\":\"5\",\"prv_dd_cmpr\":\"3,750\",\"lst_stk_vl\":\"11,077,521\",\"isu_tr_vl\":\"11,216,079\",\"tr_vl_rt\":\"101.25\",\"mem_nm\":\"키움증권\",\"trst_bid_tr_vl\":\"4,548,006\",\"trst_bid_tr_rt\":\"40.55\",\"totCnt\":\"\"},{\"rn\":\"3\",\"isu_cd\":\"226350\",\"kor_shrt_isu_nm\":\"아이엠텍\",\"isu_cur_pr\":\"8,450\",\"fluc_tp_cd\":\"1\",\"prv_dd_cmpr\":\"1,600\",\"lst_stk_vl\":\"16,787,750\",\"isu_tr_vl\":\"13,952,225\",\"tr_vl_rt\":\"83.11\",\"mem_nm\":\"키움증권\",\"trst_bid_tr_vl\":\"5,782,059\",\"trst_bid_tr_rt\":\"41.44\",\"totCnt\":\"\"},{\"rn\":\"4\",\"isu_cd\":\"017180\",\"kor_shrt_isu_nm\":\"명문제약\",\"isu_cur_pr\":\"6,800\",\"fluc_tp_cd\":\"1\",\"prv_dd_cmpr\":\"650\",\"lst_stk_vl\":\"23,220,000\",\"isu_tr_vl\":\"18,168,694\",\"tr_vl_rt\":\"78.25\",\"mem_nm\":\"키움증권\",\"trst_bid_tr_vl\":\"6,727,492\",\"trst_bid_tr_rt\":\"37.03\",\"totCnt\":\"\"},{\"rn\":\"5\",\"isu_cd\":\"051170\",\"kor_shrt_isu_nm\":\"썬코어\",\"isu_cur_pr\":\"4,880\",\"fluc_tp_cd\":\"1\",\"prv_dd_cmpr\":\"615\",\"lst_stk_vl\":\"34,716,085\",\"isu_tr_vl\":\"23,334,094\",\"tr_vl_rt\":\"67.21\",\"mem_nm\":\"키움증권\",\"trst_bid_tr_vl\":\"8,032,110\",\"trst_bid_tr_rt\":\"34.42\",\"totCnt\":\"\"},{\"rn\":\"6\",\"isu_cd\":\"007630\",\"kor_shrt_isu_nm\":\"지에스인스트루\",\"isu_cur_pr\":\"6,270\",\"fluc_tp_cd\":\"5\",\"prv_dd_cmpr\":\"2,680\",\"lst_stk_vl\":\"12,525,198\",\"isu_tr_vl\":\"7,728,695\",\"tr_vl_rt\":\"61.71\",\"mem_nm\":\"키움증권\",\"trst_bid_tr_vl\":\"2,542,745\",\"trst_bid_tr_rt\":\"32.90\",\"totCnt\":\"\"},{\"rn\":\"7\",\"isu_cd\":\"064240\",\"kor_shrt_isu_nm\":\"홈캐스트\",\"isu_cur_pr\":\"13,250\",\"fluc_tp_cd\":\"1\",\"prv_dd_cmpr\":\"400\",\"lst_stk_vl\":\"31,420,893\",\"isu_tr_vl\":\"18,015,912\",\"tr_vl_rt\":\"57.34\",\"mem_nm\":\"키움증권\",\"trst_bid_tr_vl\":\"6,075,904\",\"trst_bid_tr_rt\":\"33.73\",\"totCnt\":\"\"},{\"rn\":\"8\",\"isu_cd\":\"900050\",\"kor_shrt_isu_nm\":\"중국원양자원\",\"isu_cur_pr\":\"1,840\",\"fluc_tp_cd\":\"1\",\"prv_dd_cmpr\":\"115\",\"lst_stk_vl\":\"97,859,369\",\"isu_tr_vl\":\"53,931,452\",\"tr_vl_rt\":\"55.11\",\"mem_nm\":\"키움증권\",\"trst_bid_tr_vl\":\"19,918,689\",\"trst_bid_tr_rt\":\"36.93\",\"totCnt\":\"\"},{\"rn\":\"9\",\"isu_cd\":\"024800\",\"kor_shrt_isu_nm\":\"유성티엔에스\",\"isu_cur_pr\":\"5,980\",\"fluc_tp_cd\":\"1\",\"prv_dd_cmpr\":\"530\",\"lst_stk_vl\":\"22,723,235\",\"isu_tr_vl\":\"11,829,105\",\"tr_vl_rt\":\"52.06\",\"mem_nm\":\"키움증권\",\"trst_bid_tr_vl\":\"4,523,235\",\"trst_bid_tr_rt\":\"38.24\",\"totCnt\":\"\"},{\"rn\":\"10\",\"isu_cd\":\"127710\",\"kor_shrt_isu_nm\":\"아시아경제\",\"isu_cur_pr\":\"5,750\",\"fluc_tp_cd\":\"2\",\"prv_dd_cmpr\":\"1,000\",\"lst_stk_vl\":\"25,244,030\",\"isu_tr_vl\":\"12,935,221\",\"tr_vl_rt\":\"51.24\",\"mem_nm\":\"키움증권\",\"trst_bid_tr_vl\":\"4,569,350\",\"trst_bid_tr_rt\":\"35.32\",\"totCnt\":\"\"}]}'"
      ]
     },
     "execution_count": 178,
     "metadata": {},
     "output_type": "execute_result"
    }
   ],
   "source": [
    "####get highest rank turnover stock of the day\n",
    "url = 'http://marketdata.krx.co.kr/contents/MKD/99/MKD99000001.jspx'\n",
    "##schdate\n",
    "page_num=1\n",
    "querystring = {#'isu_cd': '', \n",
    "              'code': 'oH8sFduKW35fzJdEBtPLwPD+stqJqBoGJ+pcMCEizfjkloYj2l5aFZjCOT7/BTDx8SlMVyKNQUcwx5jEyySyDPtSi1CDjoJWPUBmJcrC1qTd6gdLW//nFseppsyaPtz6', \n",
    "             'index_ind_cd':'',\n",
    "             'market_gubun': 'ALL', 'schdate': '20160802', 'sect_tp_cd':'ALL',\n",
    "             'pagePath': '/contents/MKD/04/0404/04040300/MKD04040300.jsp',\n",
    "              'curPage': '{0}'.format(page_num)}\n",
    "header = {#'accept':'application/json, text/javascript, */*; q=0.01',\n",
    "#          'origin':'http://marketdata.krx.co.kr',\n",
    "#          'x-requested-with':'XMLHttpRequest',\n",
    "#          'Content-Type':'application/x-www-form-urlencoded; charset=UTF-8',\n",
    "#          'Accept-Encoding':'gzip, deflate',\n",
    "#          'Referer':'http://marketdata.krx.co.kr/mdi',\n",
    "#          'Accept-Language':'ko-KR,ko;q=0.8,en-US;q=0.6,en;q=0.4',\n",
    "#          'cache-control':'no-cache',\n",
    "#          'postman-token': \"f139e5a5-1e1f-7e67-c62b-ad32eaffee89\"\n",
    "         }\n",
    "\n",
    "response = requests.request('POST', url, headers=header, data= querystring )\n",
    "response.text"
   ]
  },
  {
   "cell_type": "code",
   "execution_count": 122,
   "metadata": {
    "collapsed": false
   },
   "outputs": [
    {
     "data": {
      "text/plain": [
       "False"
      ]
     },
     "execution_count": 122,
     "metadata": {},
     "output_type": "execute_result"
    }
   ],
   "source": [
    "'oH8sFduKW35fzJdEBtPLwD0P1ucDGfFb7rFtZ9Dy/LRy6M2zIFsHx0eS4g+9wQ4EfJ0Tcoihek3I+a6wma+0rtXL4eg8btrJJByFP6UOw51rrWQjumZQEyGQosW2lQpj'\\\n",
    "=='oH8sFduKW35fzJdEBtPLwPD+stqJqBoGJ+pcMCEizfjkloYj2l5aFZjCOT7/BTDx8SlMVyKNQUcwx5jEyySyDPtSi1CDjoJWPUBmJcrC1qTd6gdLW//nFseppsyaPtz6'"
   ]
  },
  {
   "cell_type": "code",
   "execution_count": 95,
   "metadata": {
    "collapsed": false
   },
   "outputs": [
    {
     "data": {
      "text/plain": [
       "'oH8sFduKW35fzJdEBtPLwMs/Tjj/2FXkn/RYmd2ZAlNbuhS9gbW24HDsR48MilOwPwgftlmCYIubNfxZ4BDcyHJms0idBICR9rIRULeKby2DJJ0fMb1f6TCd1uj4/a3S'"
      ]
     },
     "execution_count": 95,
     "metadata": {},
     "output_type": "execute_result"
    }
   ],
   "source": [
    "response_otp.text"
   ]
  }
 ],
 "metadata": {
  "kernelspec": {
   "display_name": "Python 3",
   "language": "python",
   "name": "python3"
  },
  "language_info": {
   "codemirror_mode": {
    "name": "ipython",
    "version": 3
   },
   "file_extension": ".py",
   "mimetype": "text/x-python",
   "name": "python",
   "nbconvert_exporter": "python",
   "pygments_lexer": "ipython3",
   "version": "3.5.1"
  }
 },
 "nbformat": 4,
 "nbformat_minor": 0
}
